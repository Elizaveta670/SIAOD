{
 "cells": [
  {
   "cell_type": "markdown",
   "id": "super-devon",
   "metadata": {},
   "source": [
    "# Лабораторная работа 2. Методы поиска."
   ]
  },
  {
   "cell_type": "markdown",
   "id": "neutral-binary",
   "metadata": {},
   "source": [
    "## Задание:\n",
    "Реализовать методы поиска. Организовать генерацию начального набора случайных данных. Добавить реализацию добавления, поиска и удаления элементов. Оценить время работы каждого алгоритма поиска и сравнить его со временем работы стандартной функции поиска."
   ]
  },
  {
   "cell_type": "markdown",
   "id": "southwest-ground",
   "metadata": {},
   "source": [
    "# Бинарный поиск \n"
   ]
  },
  {
   "cell_type": "code",
   "execution_count": 1,
   "id": "anticipated-processor",
   "metadata": {},
   "outputs": [],
   "source": [
    "def binary_search(lst, search_item):\n",
    "    lst.sort()\n",
    "    low = 0\n",
    "    high = len(lst) - 1 \n",
    "    search_res = False\n",
    "\n",
    "    while low <= high and not search_res:\n",
    "        new_middle = (low + high) // 2\n",
    "        middle = lst[new_middle]   \n",
    "        if  middle == search_item:\n",
    "            search_res = True\n",
    "            return search_res\n",
    "        if  middle > search_item:\n",
    "            high = new_middle - 1\n",
    "        else:\n",
    "            low = new_middle + 1\n",
    "    return search_res\n"
   ]
  },
  {
   "cell_type": "markdown",
   "id": "conservative-glasgow",
   "metadata": {},
   "source": [
    "### Генерация массива и выполнение поиска"
   ]
  },
  {
   "cell_type": "code",
   "execution_count": 9,
   "id": "fossil-former",
   "metadata": {},
   "outputs": [],
   "source": [
    "import random\n",
    "#ген. массива \n",
    "def random_array(length=10): \n",
    "    mas = []\n",
    "    while len(mas) < length:\n",
    "        mas.append(random.randint(60, 70))\n",
    "    return mas\n",
    "lst = random_array(10) \n"
   ]
  },
  {
   "cell_type": "code",
   "execution_count": 12,
   "id": "great-alignment",
   "metadata": {},
   "outputs": [
    {
     "name": "stdout",
     "output_type": "stream",
     "text": [
      "[60, 60, 61, 62, 62, 62, 63, 66, 67, 68]\n",
      "67\n",
      "Элемент найден\n"
     ]
    }
   ],
   "source": [
    "search_item = 67\n",
    "result = binary_search(lst, search_item)\n",
    "print(lst)\n",
    "print(search_item)\n",
    "if result:\n",
    "    print(\"Элемент найден\")\n",
    "else:\n",
    "    print(\"Элемент не найден\")"
   ]
  },
  {
   "cell_type": "markdown",
   "id": "public-oasis",
   "metadata": {},
   "source": [
    "### Оценка времени"
   ]
  },
  {
   "cell_type": "code",
   "execution_count": 6,
   "id": "figured-grain",
   "metadata": {
    "scrolled": true
   },
   "outputs": [
    {
     "name": "stdout",
     "output_type": "stream",
     "text": [
      "Бинарный поиск    5.000000001587068e-06\n"
     ]
    }
   ],
   "source": [
    "import timeit\n",
    "\n",
    "print(\"Бинарный поиск    \" + str(timeit.timeit(\"binary_search(lst,search_item)\", number=1, globals=globals())))"
   ]
  },
  {
   "cell_type": "markdown",
   "id": "medium-suspect",
   "metadata": {},
   "source": [
    "## Бинарное дерево \n"
   ]
  },
  {
   "cell_type": "code",
   "execution_count": 66,
   "id": "pediatric-special",
   "metadata": {},
   "outputs": [],
   "source": [
    "import numpy as np"
   ]
  },
  {
   "cell_type": "code",
   "execution_count": 81,
   "id": "charming-logan",
   "metadata": {},
   "outputs": [],
   "source": [
    "#ключ=значение и нач.значения\n",
    "class Node():\n",
    "    def __init__(self, key=0):\n",
    "        self.key = key\n",
    "        self.left = None\n",
    "        self.right = None\n",
    "#Сравнение \n",
    "    def compare(self, key):\n",
    "#Равно\n",
    "        if (key == self.key): \n",
    "            return 0 \n",
    "#Меньше\n",
    "        elif (key < self.key): \n",
    "            return -1  \n",
    "#Больше\n",
    "        elif (key > self.key):\n",
    "            return 1  "
   ]
  },
  {
   "cell_type": "code",
   "execution_count": 105,
   "id": "adult-conviction",
   "metadata": {},
   "outputs": [],
   "source": [
    "#Бинарное дерево \n",
    "class BinaryTree:\n",
    "    \n",
    "#Нач.значения\n",
    "    def __init__(self):\n",
    "        self.root = None\n",
    "        self.count = 0\n",
    "            \n",
    "            \n",
    "            \n",
    "# №1. ДОБАВЛЕНИЕ ЭЛЕМЕНТА\n",
    "    def Add(self, key):\n",
    "        \n",
    "        if ( self.root == None):\n",
    "             self.root = Node(key)\n",
    "        else: self.AddTo ( self.root, key)\n",
    "            \n",
    "        self.count = self.count + 1\n",
    "        \n",
    "# Рекурсия AddTo для добавления\n",
    "    def AddTo(self,node,key):\n",
    "#сравнение. если меньше\n",
    "        if (node.compare(key) < 0):\n",
    "            if (node.left is None):\n",
    "                node.left = Node(key)\n",
    "            else: self.AddTo(node.left,key);\n",
    "#сравнение. если больше/равно \n",
    "        else:\n",
    "            if (node.right is None):\n",
    "                node.right = Node(key)\n",
    "            else: self.AddTo(node.right,key);\n",
    "                \n",
    "                \n",
    "                \n",
    "# №2 ПОИСК ЭЛЕМЕНТА. \n",
    "    def Search(self,key):\n",
    "        current = self.root #текущий\n",
    "        parrent = None #родитель\n",
    "        \n",
    "        while(current!= None):\n",
    "            rez = current.compare(key)\n",
    "#Если значение больше\n",
    "            if (rez>0):\n",
    "                parrent = current\n",
    "                current = current.right\n",
    "#Если значение меньше\n",
    "            elif(rez<0):\n",
    "                parrent = current\n",
    "                current = current.left\n",
    "#Если значения равны = эл.найден\n",
    "            else: break\n",
    "        \n",
    "        return current, parrent\n",
    "\n",
    "# ПРОВЕРКА: есть ли указанный элемент \n",
    "    def Contains(self, key):\n",
    "        rez = self.Search(key)\n",
    "        return (rez[0] != None) \n",
    "    \n",
    "    \n",
    "# №3 УДАЛЕНИЕ ЭЛЕМЕНТА  \n",
    "    def DelTo(self,key):\n",
    "        current = None\n",
    "        parrent = None \n",
    "        current,parrent = self.Search(key)\n",
    "#Если элемента нет \n",
    "        if(current  is None):\n",
    "            return False\n",
    "#Продолжение алгоритма \n",
    "        self.count = self.count - 1\n",
    "#Если справа нет элемента-родителя,перемещаем левый элемент-ребенка на место удаляемого \n",
    "        if (current.right is None):\n",
    "            if (parrent is None): \n",
    "                self.root = current.left\n",
    "            else:\n",
    "                rez = current.compare(key)\n",
    "                if (rez > 0):\n",
    "                    parrent.left = current.left\n",
    "                elif (rez < 0):\n",
    "                     parrent.left = current.right\n",
    "#Если у правого потомка нет слева потомка,перемещаем его на место удаляемого   \n",
    "        elif (current.right.left is None):\n",
    "            current.right.left = current.left\n",
    "            if (parrent is None): \n",
    "                self.root = current.right\n",
    "            else:\n",
    "                res = current.compare(key)\n",
    "                if (result > 0):\n",
    "                    parent.left = current.right\n",
    "                elif (result < 0):\n",
    "                    parent.right = current.right\n",
    " #Если у правого потомка есть потомки слева, крайний левый потомок из правого поддерева заменяет удаляемый узел.\n",
    "        else:\n",
    "            leftmost = current.right.left\n",
    "            leftmostParent = current.right\n",
    "            while (leftmost.left != None):\n",
    "                leftmostParent = leftmost\n",
    "                leftmost = leftmost.left\n",
    " \n",
    "            leftmostParent.left = leftmost.right;\n",
    "            leftmost.left = current.left;\n",
    "            leftmost.right = current.right;\n",
    " \n",
    "            if (parrent is None): self.root = leftmost;\n",
    "            else:\n",
    "                res = parent.compare(key)\n",
    "                if (result > 0): parent.Left = leftmost;\n",
    "                elif (result < 0): parent.Right = leftmost;\n",
    "        \n",
    "        return True        \n",
    "    # Возвращает счётчик количества узлов в дереве\n",
    "    def Count(self):\n",
    "        return self.count\n",
    "\n",
    "   "
   ]
  },
  {
   "cell_type": "code",
   "execution_count": 106,
   "id": "israeli-amount",
   "metadata": {},
   "outputs": [],
   "source": [
    "# Создание бинарного дерева\n",
    "tree = BinaryTree()\n",
    "tree.Add(16)\n",
    "tree.Add(5)\n",
    "tree.Add(2)\n",
    "tree.Add(11)\n",
    "tree.Add(7)\n",
    "tree.Add(32)\n",
    "tree.Add(89)\n",
    "tree.Add(64)"
   ]
  },
  {
   "cell_type": "markdown",
   "id": "executive-edmonton",
   "metadata": {},
   "source": [
    "# Фибоначчиев поиск элементов \n"
   ]
  },
  {
   "cell_type": "markdown",
   "id": "associate-durham",
   "metadata": {},
   "source": [
    "## Генерация и сортировка массива"
   ]
  },
  {
   "cell_type": "code",
   "execution_count": 89,
   "id": "brutal-slovakia",
   "metadata": {},
   "outputs": [
    {
     "name": "stdout",
     "output_type": "stream",
     "text": [
      "[6, 5, 4, 50, 46, 43, 28, 18, 48, 4]\n",
      "[4, 4, 5, 6, 18, 28, 43, 46, 48, 50]\n"
     ]
    }
   ],
   "source": [
    "import random\n",
    "def generate_array(length=10):  \n",
    "    array = []\n",
    "    while len(array) < length:\n",
    "        array.append(random.randint(0, 100))\n",
    "    return array\n",
    "#сортировка\n",
    "def default_sort(array):  \n",
    "    ans = array.copy()\n",
    "    ans.sort()\n",
    "    return ans\n",
    "init_array = generate_array(1_0)\n",
    "print(init_array)\n",
    "sorted_array = default_sort(init_array)\n",
    "print(sorted_array)"
   ]
  },
  {
   "cell_type": "markdown",
   "id": "conventional-processing",
   "metadata": {},
   "source": [
    "## Поиск элемента"
   ]
  },
  {
   "cell_type": "code",
   "execution_count": 90,
   "id": "smart-hungarian",
   "metadata": {},
   "outputs": [],
   "source": [
    "def fibonacci_search(array, element):\n",
    "    arr_length = len(array)\n",
    "    fpast = 0\n",
    "    fnow = 1\n",
    "    while True:  # пытаемся найти промежуток, где находится наше значение\n",
    "        if fnow >= arr_length:  # дошли до конца массива промежутком\n",
    "            if array[arr_length - 1] < element:\n",
    "                return -1\n",
    "            else:\n",
    "                fnow = arr_length - 1\n",
    "                break\n",
    "        if array[fnow] >= element:\n",
    "            break\n",
    "        buffer = fnow\n",
    "        fnow = fnow + fpast\n",
    "        fpast = buffer\n",
    "\n",
    "    for i in range(fpast, fnow + 1):\n",
    "        if array[i] == element:\n",
    "            return i\n",
    "    return -1"
   ]
  },
  {
   "cell_type": "code",
   "execution_count": 97,
   "id": "closing-scholar",
   "metadata": {},
   "outputs": [
    {
     "name": "stdout",
     "output_type": "stream",
     "text": [
      "[4, 4, 5, 6, 18, 28, 43, 46, 48, 50]\n",
      "Элемент 5 расположен на индексе 3\n"
     ]
    }
   ],
   "source": [
    "fibonacci_array = default_sort(init_array)\n",
    "print(fibonacci_array)\n",
    "print('Элемент %i расположен на индексе %i' % (5, fibonacci_search(fibonacci_array, 6)))"
   ]
  },
  {
   "cell_type": "markdown",
   "id": "burning-conservative",
   "metadata": {},
   "source": [
    "# Интерполяционный поиск "
   ]
  },
  {
   "cell_type": "code",
   "execution_count": 98,
   "id": "opened-sphere",
   "metadata": {},
   "outputs": [],
   "source": [
    "def interpolation_search(array, element):\n",
    "    low = 0\n",
    "    high = len(array) - 1\n",
    "    while array[low] < element < array[high]:\n",
    "        if array[high] == array[low]:\n",
    "            break\n",
    "        mid = low + ((element - array[low]) * (high - low) // (array[high] - array[low]))\n",
    "        if array[mid] < element:\n",
    "            low = mid + 1\n",
    "        elif array[mid] > element:\n",
    "            high = mid - 1\n",
    "        else:\n",
    "            return mid\n",
    "    if array[low] == element:\n",
    "        return low\n",
    "    if array[high] == element:\n",
    "        return high\n",
    "\n",
    "    return -1"
   ]
  },
  {
   "cell_type": "code",
   "execution_count": 99,
   "id": "automated-syndrome",
   "metadata": {},
   "outputs": [
    {
     "name": "stdout",
     "output_type": "stream",
     "text": [
      "[4, 4, 5, 6, 18, 28, 43, 46, 48, 50]\n",
      "Элемент 5 имеет индекс 3\n"
     ]
    }
   ],
   "source": [
    "interpolated_array = default_sort(init_array)\n",
    "print(interpolated_array)\n",
    "print('Элемент %i имеет индекс %i' % (5, interpolation_search(interpolated_array, 6)))"
   ]
  },
  {
   "cell_type": "code",
   "execution_count": null,
   "id": "compressed-medicaid",
   "metadata": {},
   "outputs": [],
   "source": []
  }
 ],
 "metadata": {
  "kernelspec": {
   "display_name": "Python 3",
   "language": "python",
   "name": "python3"
  },
  "language_info": {
   "codemirror_mode": {
    "name": "ipython",
    "version": 3
   },
   "file_extension": ".py",
   "mimetype": "text/x-python",
   "name": "python",
   "nbconvert_exporter": "python",
   "pygments_lexer": "ipython3",
   "version": "3.9.1"
  }
 },
 "nbformat": 4,
 "nbformat_minor": 5
}
