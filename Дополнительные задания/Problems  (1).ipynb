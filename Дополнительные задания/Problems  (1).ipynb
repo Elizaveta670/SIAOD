{
 "cells": [
  {
   "cell_type": "markdown",
   "id": "floating-template",
   "metadata": {},
   "source": [
    "# Дополнительные задачи\n"
   ]
  },
  {
   "cell_type": "markdown",
   "id": "finished-binary",
   "metadata": {},
   "source": [
    "## Распределение НБА"
   ]
  },
  {
   "cell_type": "markdown",
   "id": "settled-aside",
   "metadata": {},
   "source": [
    "Задача 1\n",
    "\n",
    "Перед каждым сезоном НБА проходит драфт, то есть церемония выбора игроков командами.\n",
    "Перед драфтом скаутские службы команд детально изучают потенциальных новичков. Одна из команд поручила вам написать программу для обработки собранных данных в соответствии с внутрикомандными стандартами.\n",
    "\n",
    "Каждый из новичков до этого провёл как минимум один сезон в студенческих лигах, так что для каждого игрока известны пять основных целочисленных параметров:\n",
    "\n",
    "●\tРост игрока – ожидаемый диапазон от 190 до 220 см.\n",
    "●\tРазмах рук (иначе говоря, wingspan) – ожидаемый диапазон от 200 до 250 см.\n",
    "●\tСреднее количество очков за матч – ожидаемый диапазон от 10 до 20.\n",
    "●\tСреднее количество подборов за матч – ожидаемый диапазон от 2 до 6.\n",
    "●\tСреднее количество передач за матч – ожидаемый диапазон от 3 до 7.\n",
    "\n",
    "Таким образом, каждый из параметров может оказаться ниже ожидаемого диапазона, в нижней половине ожидаемого диапазона, в верхней половине ожидаемого диапазона (середина входит в верхнюю половину) и выше ожидаемого диапазона.\n",
    "Перед драфтом требуется распределить игроков по следующим категориям:\n",
    "\n",
    "●\tуникальный игрок (таких ещё называют «единорогами» — unicorn) с сочетанием выдающихся физических данных и игровых навыков;\n",
    "●\tигрок, достойный выбора в первом раунде;\n",
    "●\tигрок, достойный выбора во втором раунде;\n",
    "●\tигрок, которого не стоит выбирать вообще.\n",
    "\n",
    "Если у игрока три параметра выше ожидаемого диапазона, причём среди них обязательно есть рост или размах рук, то игрок считается «единорогом» (категория 0)\n",
    "\n",
    "Игрока рекомендуется выбирать в первом раунде драфта (категория 1), если верно одно из следующих утверждений:\n",
    "\n",
    "●\tУ игрока два параметра выше ожидаемого диапазона и ещё один – как минимум в верхней половине ожидаемого диапазона.\n",
    "●\tУ игрока все параметры как минимум в ожидаемом диапазоне и не менее трёх – как минимум в верхней половине.\n",
    "\n",
    "Игрока рекомендуется выбирать во втором раунде драфта (категория 2), если верно одно из следующих утверждений:\n",
    "●\tУ игрока один параметр выше ожидаемого диапазона и ещё один — как минимум в верхней половине ожидаемого диапазона.\n",
    "●\tУ игрока три параметра как минимум в верхней половине ожидаемого диапазона.\n",
    "\n",
    "В остальных случаях тратить выбор драфта на этого игрока не рекомендуется (категория 3).\n",
    "Вам заданы параметры некоторых из 32 игроков текущего драфта (для объективности имена игроков не указаны). Ваша задача – для каждого игрока определить категорию, под которую он подпадает для вашей команды на драфте.\n"
   ]
  },
  {
   "cell_type": "code",
   "execution_count": 1,
   "id": "stupid-civilian",
   "metadata": {},
   "outputs": [],
   "source": [
    "def igrok(rost,razmah, ochki, podbor, peredach):\n",
    "    luchiy = 0; verx = 0; niz = 0; plox = 0\n",
    "    \n",
    "    if rost > 220: \n",
    "        luchiy = luchiy + 1\n",
    "    elif rost > 204 and rost <= 220: \n",
    "        verx = verx + 1\n",
    "    elif rost >= 190 and rost <= 204: \n",
    "        niz = niz + 1\n",
    "    else:\n",
    "         plox =  plox + 1\n",
    "        \n",
    "    if razmah > 250:\n",
    "        luchiy = luchiy + 1\n",
    "    elif razmah > 224 and razmah <= 250: \n",
    "        verx = verx + 1\n",
    "    elif razmah >= 200 and razmah <= 224: \n",
    "        niz = niz + 1\n",
    "    else:\n",
    "         plox =  plox + 1\n",
    "        \n",
    "    if ochki > 20:\n",
    "        luchiy = luchiy + 1\n",
    "    elif ochki > 14 and ochki <= 20: \n",
    "        verx = verx + 1\n",
    "    elif ochki >= 10 and ochki <= 14: \n",
    "        niz = niz + 1\n",
    "    else:\n",
    "        plox =  plox + 1\n",
    "    \n",
    "    if podbor > 6:\n",
    "        luchiy = luchiy + 1\n",
    "    elif podbor > 4 and podbor <= 6: \n",
    "        verx = verx + 1\n",
    "    elif podbor >= 2 and podbor <= 4: \n",
    "        niz = niz + 1\n",
    "    else: \n",
    "         plox =  plox + 1\n",
    "        \n",
    "    if peredach > 7:\n",
    "        luchiy = luchiy + 1\n",
    "    elif peredach > 4 and peredach <= 7:\n",
    "        verx = verx + 1\n",
    "    elif peredach >= 3 and peredach <= 4: \n",
    "        niz = niz + 1\n",
    "    else:\n",
    "        plox =  plox + 1\n",
    "    \n",
    "    if luchiy >= 3 and (rost > 220 or razmah > 250): \n",
    "        return 0\n",
    "    elif (luchiy >= 2 and verx >= 1) or (verx >= 3 and niz <= 2 and  plox == 0):\n",
    "        return 1\n",
    "    elif (luchiy >= 1 and verx >= 1) or (verx >= 3): \n",
    "        return 2\n",
    "    else: \n",
    "        return 3"
   ]
  },
  {
   "cell_type": "code",
   "execution_count": 2,
   "id": "operational-charles",
   "metadata": {},
   "outputs": [
    {
     "name": "stdout",
     "output_type": "stream",
     "text": [
      "0\n",
      "2\n",
      "1\n"
     ]
    }
   ],
   "source": [
    "print(igrok(230, 190, 16, 7, 9))\n",
    "print(igrok(205, 225, 15, 5, 2))\n",
    "print(igrok(210, 210, 30, 9, 9))"
   ]
  },
  {
   "cell_type": "markdown",
   "id": "transsexual-wesley",
   "metadata": {},
   "source": [
    "##  Треугольник с максимальным периметром"
   ]
  },
  {
   "cell_type": "markdown",
   "id": "maritime-prerequisite",
   "metadata": {},
   "source": [
    "Массив A состоит из целых положительных чисел - длин отрезков. Составьте из трех отрезков такой треугольник, чтобы его периметр был максимально возможным. Если невозможно составить треугольник с положительной площадью - функция возвращает 0."
   ]
  },
  {
   "cell_type": "code",
   "execution_count": 6,
   "id": "hybrid-triple",
   "metadata": {},
   "outputs": [
    {
     "name": "stdout",
     "output_type": "stream",
     "text": [
      "кол-во эл. = 2\n",
      "Элементы массива\n",
      "1\n",
      "2\n",
      "[2, 1]\n",
      "0\n"
     ]
    }
   ],
   "source": [
    "length = int(input(\"кол-во эл. = \"))\n",
    "def massive(length):\n",
    "    array = []\n",
    "    print(\"Элементы массива\")\n",
    "    for i in range(length):\n",
    "        array.append(int(input()))\n",
    "    return array\n",
    "mas = massive(length)\n",
    "def puzir(arr):\n",
    "    for i in range(length-1):\n",
    "        for j in range(length-i-1):\n",
    "            if arr[j] < arr[j+1]:\n",
    "                arr[j], arr[j+1] = arr[j+1], arr[j]\n",
    "    return arr\n",
    "\n",
    "print(puzir(mas))\n",
    "\n",
    "def max_per(arr):\n",
    "    for i in range(length-2):\n",
    "        if arr[i]+arr[i+1] > arr[i+2] and arr[i]+arr[i+2] > arr[i+1] and arr[i+2]+arr[i+1] > arr[i]:\n",
    "            per = arr[i] + arr[i+1] + arr[i+2]\n",
    "            return per\n",
    "    return 0\n",
    "print(max_per(mas))"
   ]
  },
  {
   "cell_type": "markdown",
   "id": "missing-registration",
   "metadata": {},
   "source": [
    "##  Максимальное число\n"
   ]
  },
  {
   "cell_type": "markdown",
   "id": "partial-peoples",
   "metadata": {},
   "source": [
    "Дан массив неотрицательных целых чисел nums. Расположите их в таком порядке, чтобы\n",
    "вместе они образовали максимально возможное число."
   ]
  },
  {
   "cell_type": "code",
   "execution_count": 7,
   "id": "adjustable-riding",
   "metadata": {},
   "outputs": [
    {
     "name": "stdout",
     "output_type": "stream",
     "text": [
      "[138 147  29   2 120   7  37  74  97   3]\n",
      "97774337229147138120\n"
     ]
    }
   ],
   "source": [
    "import numpy\n",
    "from copy import deepcopy\n",
    "\n",
    "\n",
    "def biggest_first_number(row):\n",
    "    ans_row = deepcopy(row)\n",
    "\n",
    "    max = -3\n",
    "    for i in range(len(row)):\n",
    "        if ans_row[i][0] >= max:\n",
    "            max = ans_row[i][0]\n",
    "    for i in range(len(row)):\n",
    "        if ans_row[i][0] != max and ans_row[i][0] >= 0:\n",
    "            ans_row[i][0] = -2\n",
    "    return ans_row\n",
    "\n",
    "\n",
    "def add_best_numbers(row, original_row):\n",
    "    big_number = ''\n",
    "    isNeededToBeChecked = False\n",
    "\n",
    "    for i in range(len(row)):\n",
    "        if row[i][0] >= 0:\n",
    "            if len(row[i]) == 1:\n",
    "                big_number += str(''.join(map(str, original_row[i])))\n",
    "                row[i][0] = -1\n",
    "            else:\n",
    "                row[i].__delitem__(0)\n",
    "                isNeededToBeChecked = True\n",
    "\n",
    "    length = len(row)\n",
    "    i = 0\n",
    "    while i < length:  # удаляем добавленные числа\n",
    "        if row[i][0] == -1:\n",
    "            original_row.__delitem__(i)\n",
    "            row.__delitem__(i)\n",
    "            length -= 1\n",
    "        else:\n",
    "            i += 1\n",
    "\n",
    "    if isNeededToBeChecked:\n",
    "        best_numbers = biggest_first_number(row)\n",
    "        big_number += add_best_numbers(best_numbers, original_row)\n",
    "    return big_number\n",
    "\n",
    "\n",
    "def find_max(row):\n",
    "    length = len(row)\n",
    "    big_number = ''\n",
    "\n",
    "    raw_row = [''] * length\n",
    "\n",
    "    for i in range(length):\n",
    "        number = str(row[i])  # превращаем наши числа в массив символов\n",
    "        raw_row[i] = list(number)  # записываем наш массив в массив\n",
    "        raw_row[i] = [int(raw_row[i]) for raw_row[i] in raw_row[i]]\n",
    "\n",
    "\n",
    "    while len(raw_row) != 0:\n",
    "        best_numbers = biggest_first_number(raw_row)  # находим лучших кандидатов\n",
    "\n",
    "        big_number += add_best_numbers(best_numbers, raw_row)\n",
    "\n",
    "\n",
    "    return big_number\n",
    "\n",
    "\n",
    "\n",
    "\n",
    "\n",
    "\n",
    "\n",
    "\n",
    "\n",
    "\n",
    "row = numpy.random.randint(1, 150, size=10)\n",
    "print(row)\n",
    "result = find_max(row)\n",
    "print(result)"
   ]
  },
  {
   "cell_type": "markdown",
   "id": "parliamentary-albuquerque",
   "metadata": {},
   "source": [
    "## Сортировка диагоналей в матрице"
   ]
  },
  {
   "cell_type": "markdown",
   "id": "scheduled-annex",
   "metadata": {},
   "source": [
    "Дан массив неотрицательных целых чисел nums. Расположите их в таком порядке, чтобы\n",
    "вместе они образовали максимально возможное число."
   ]
  },
  {
   "cell_type": "code",
   "execution_count": 8,
   "id": "tough-career",
   "metadata": {},
   "outputs": [
    {
     "name": "stdout",
     "output_type": "stream",
     "text": [
      "[[6 8 7 4]\n",
      " [0 5 1 9]\n",
      " [2 2 0 6]\n",
      " [7 2 2 2]\n",
      " [2 8 1 3]\n",
      " [1 6 5 0]\n",
      " [3 4 0 8]\n",
      " [9 7 0 9]\n",
      " [5 0 8 1]\n",
      " [2 4 8 0]]\n",
      "[[0 1 7 4]\n",
      " [0 2 6 9]\n",
      " [0 2 5 8]\n",
      " [5 1 2 6]\n",
      " [0 7 2 3]\n",
      " [0 2 8 2]\n",
      " [0 1 6 8]\n",
      " [0 3 1 9]\n",
      " [4 8 7 4]\n",
      " [2 5 9 8]]\n"
     ]
    }
   ],
   "source": [
    "import numpy\n",
    "\n",
    "def sort_matrix(mat):\n",
    "    height = len(mat)\n",
    "    width = len(mat[0])\n",
    "\n",
    "    for x_start in range(1, width):\n",
    "        line = []\n",
    "        x = x_start\n",
    "        for y in range(height - (0 if width - height - x >= 0 else abs(width - height - x)) ):\n",
    "            line.append(mat[y][x])\n",
    "            x += 1\n",
    "        #print(line)\n",
    "        line.sort()\n",
    "        #print(line)\n",
    "\n",
    "        x = x_start\n",
    "        for y in range(height - (0 if width - height - x >= 0 else abs(width - height - x)) ):\n",
    "            mat[y][x] = line[y]\n",
    "            x += 1\n",
    "\n",
    "    for y_start in range(0, height):\n",
    "        line = []\n",
    "        y = y_start\n",
    "        for x in range(width - (0 if height - width - y >= 0 else abs(height - width - y)) ):\n",
    "            line.append(mat[y][x])\n",
    "            y += 1\n",
    "        #print(line)\n",
    "        line.sort()\n",
    "        #print(line)\n",
    "\n",
    "        y = y_start\n",
    "        for x in range(width - (0 if height - width - y >= 0 else abs(height - width - y)) ):\n",
    "            mat[y][x] = line[x]\n",
    "            y += 1\n",
    "\n",
    "\n",
    "matrix = numpy.random.randint(0, 10, size=(10,4))\n",
    "print(matrix)\n",
    "\n",
    "sort_matrix(matrix)\n",
    "print(matrix)\n",
    "\n",
    "\n",
    "w, h = 8, 5\n"
   ]
  },
  {
   "cell_type": "markdown",
   "id": "intense-flash",
   "metadata": {},
   "source": [
    "В Тридевятом Царстве уже много лет как установилась конституционная монархия. В парламент Тридевятого царства входят 26 партий, обозначаемых строчными буквами английского алфавита от «a» до «z». Заседание парламента в соответствии с регламентом проходит по следующей схеме:\n",
    "*\tВ начале заседания никаких законопроектов на повестке дня не стоит.\n",
    "*\tЛюбая партия (в том числе и та, которая внесла текущий законопроект) в любой момент времени может внести на обсуждение новый законопроект.\n",
    "*\tПри вносе партией нового законопроекта обсуждение предыдущего приостанавливается и начинается обсуждение нового. После того, как парламентарии голосуют за новый законопроект, обсуждение законопроекта, прерванного им, продолжается.\n",
    "*\tДискуссия по любому законопроекту обязана завершиться голосованием по этому законопроекту.\n",
    "*\tВ конце заседания не должно остаться внесённых законопроектов, дискуссия по которым не завершена.\n",
    "Вам дана запись о событиях на сессии парламента. Каждое событие является либо внесением нового законопроекта, либо голосованием за какой-то законопроект, причём в обоих случаях известен номер партии, этот законопроект предложившей. События даны в том порядке, в котором они происходили. Проверьте, может ли данная запись о событиях соответствовать какому-либо заседанию, удовлетворяющему порядку проведения, описанному выше.\n"
   ]
  },
  {
   "cell_type": "markdown",
   "id": "turkish-liberia",
   "metadata": {},
   "source": [
    "Входные данные\n",
    "\n",
    "Первая строка входных данных содержит одно целое число K – количество строк в записи сессии (1 ≤ K ≤ 1000). Каждая строка соответствует одному из двух событий:\n",
    "\n",
    "Add x – партия x внесла на голосование законопроект.\n",
    "Vote x – прошло голосование за документ, внесённый партией x.\n",
    "Здесь x – строчная буква английского алфавита от «a» до «z», задающая партию.\n",
    "\n",
    "Вывод\n",
    "\n",
    "Выведите «Yes», если существует корректный порядок проведения заседания, который мог привести к такой записи, и «No», если ни при каком корректном порядке проведения заседания данная запись появиться не могла."
   ]
  },
  {
   "cell_type": "code",
   "execution_count": 22,
   "id": "respected-relief",
   "metadata": {},
   "outputs": [
    {
     "data": {
      "text/plain": [
       "'Yes'"
      ]
     },
     "execution_count": 22,
     "metadata": {},
     "output_type": "execute_result"
    }
   ],
   "source": [
    "def check(events):\n",
    "    stack = []\n",
    "    for e in events:\n",
    "        cmd, party = e.split()\n",
    "        if cmd == \"Add\":\n",
    "            stack.append(party)\n",
    "        elif stack.pop() != party:\n",
    "            return \"No\"\n",
    "    return \"Yes\" if len(stack) == 0 else \"No\"\n",
    "\n",
    "#assert check([\"Add x\", \"Add y\", \"Vote y\", \"Vote x\"]) == \"Yes\"\n",
    "#assert check([\"Add x\", \"Add x\", \"Vote y\", \"Vote x\"]) == \"No\"\n",
    "#assert check([\"Add x\", \"Add y\"]) == \"No\"\n",
    "check([\"Add x\", \"Vote x\"])"
   ]
  },
  {
   "cell_type": "markdown",
   "id": "funny-slovakia",
   "metadata": {},
   "source": [
    "### Правильный подмногоугольник\n",
    "Задан правильный N-угольник. Требуется выбрать наименьшее количество его вершин, которые также образуют правильный многоугольник.\n",
    "\n",
    "Входные данные\n",
    "\n",
    "Входные данные содержат одно целое число N (3 ≤ N ≤ 10^12).\n",
    "\n",
    "Вывод\n",
    "\n",
    "Выведите одно число — наименьшее количество вершин заданного многоугольника, которые образуют правильный многоугольник."
   ]
  },
  {
   "cell_type": "code",
   "execution_count": 21,
   "id": "smart-russia",
   "metadata": {},
   "outputs": [
    {
     "data": {
      "text/plain": [
       "3"
      ]
     },
     "execution_count": 21,
     "metadata": {},
     "output_type": "execute_result"
    }
   ],
   "source": [
    "def subpolygon(N):\n",
    "    for i in range(3, int(N**.5)+1):  # так максимум проверок 10^6  \n",
    "        if N % i == 0: return i\n",
    "    if N > 4 and N % 2 == 0:\n",
    "        # многоугольника из 2 вершин не существует\n",
    "        # но второй множитель явно больше 2 (для N > 4), поэтому если ничего из цикла не подошло\n",
    "        # то это число нам подходит\n",
    "        return N / 2\n",
    "    return N\n",
    "\n",
    "subpolygon(3) \n",
    "#assert subpolygon(4) == 4\n",
    "#assert subpolygon(8) == 4\n",
    "#assert subpolygon(9) == 3\n",
    "#assert subpolygon(10) == 5\n",
    "#assert subpolygon(11) == 11\n",
    "#assert subpolygon(16) == 4\n",
    "#assert subpolygon(5942430146) == 2971215073"
   ]
  },
  {
   "cell_type": "markdown",
   "id": "hungarian-residence",
   "metadata": {},
   "source": [
    "На форуме, на котором обсуждаются задачи олимпиад по информатике, ввели следующий аналог капчи. Участнику выдаётся строка из N десятичных цифр (без ведущих нулей). В качестве ответа требуется ввести такое основание системы счисления B, что в этой системе счисления выданная запись будет соответствовать составному числу (назовем его D), а также число X, большее 1 и меньшее D, являющееся делителем D.\n",
    "\n",
    "При этом B и X не должны превосходить 10^9. По заданной строке десятичных цифр найдите любую пару чисел B и X, удовлетворяющую ограничениям, или ответьте, что решения в заданных ограничениях не существует.\n",
    "\n",
    "Входные данные\n",
    "\n",
    "Входные данные состоят из непустой строки длиной до 3 ⋅ 10^6 символов, составленной из цифр от 0 до 9 и не начинающейся с 0.\n",
    "\n",
    "Вывод\n",
    "\n",
    "Если решение существует, выведите два числа – основание системы счисления B и делитель X, записанные в десятичной системе счисления. Оба числа должны удовлетворять ограничениям 2 ≤ B, X ≤ 10^9. Если решения не существует, выведите –1.\n",
    "\n"
   ]
  },
  {
   "cell_type": "code",
   "execution_count": 19,
   "id": "actual-booth",
   "metadata": {},
   "outputs": [
    {
     "data": {
      "text/plain": [
       "(11, 10)"
      ]
     },
     "execution_count": 19,
     "metadata": {},
     "output_type": "execute_result"
    }
   ],
   "source": [
    "def captcha(s):\n",
    "    if len(s) == 1:\n",
    "        res = [0,0,0,2,0,2,0,2,3][int(s)-1]\n",
    "        if res:\n",
    "            return 10, res\n",
    "        return -1\n",
    "    S = sum(map(int, s))\n",
    "    if S == 1:\n",
    "        return 10, 2\n",
    "    return S + 1, S\n",
    "\n",
    "#assert captcha('5') == -1\n",
    "#assert captcha('8') == (10, 2)\n",
    "#assert captcha('10') == (10, 2)\n",
    "captcha(\"19\")"
   ]
  },
  {
   "cell_type": "markdown",
   "id": "swedish-direction",
   "metadata": {},
   "source": [
    "### Объединение отрезков"
   ]
  },
  {
   "cell_type": "markdown",
   "id": "earlier-costs",
   "metadata": {},
   "source": [
    "Дан массив отрезков intervals, в котором intervals[i] = [starti\n",
    ", endi\n",
    "], некоторые\n",
    "отрезки могут пересекаться. Напишите функцию, которая объединяет все пересекающиеся от\u0002резки в один и возвращает новый массив непересекающихся отрезков.\n"
   ]
  },
  {
   "cell_type": "code",
   "execution_count": null,
   "id": "difficult-association",
   "metadata": {},
   "outputs": [],
   "source": []
  },
  {
   "cell_type": "markdown",
   "id": "elementary-lender",
   "metadata": {},
   "source": [
    "## Задания на строки\n"
   ]
  },
  {
   "cell_type": "markdown",
   "id": "executive-shoulder",
   "metadata": {},
   "source": [
    "Даны две строки: s1 и s2 с одинаковым размером, проверьте, может ли\n",
    "некоторая перестановка строки s1 “победить” некоторую перестановку\n",
    "строки s2 или наоборот.\n",
    "Строка x может “победить” строку y (обе имеют размер n), если x[i]> = y\n",
    "[i] (в алфавитном порядке) для всех i от 0 до n-1.\n"
   ]
  },
  {
   "cell_type": "code",
   "execution_count": null,
   "id": "flexible-termination",
   "metadata": {},
   "outputs": [],
   "source": []
  },
  {
   "cell_type": "markdown",
   "id": "continuing-variable",
   "metadata": {},
   "source": [
    "Дана строка s, вернуть самую длинную полиндромную подстроку в s."
   ]
  },
  {
   "cell_type": "code",
   "execution_count": null,
   "id": "entitled-dragon",
   "metadata": {},
   "outputs": [],
   "source": []
  },
  {
   "cell_type": "markdown",
   "id": "equipped-direction",
   "metadata": {},
   "source": [
    "Вернуть количество отдельных непустых подстрок текста, которые могут\n",
    "быть записаны как конкатенация некоторой строки с самой собой (т.е. она\n",
    "может быть записана, как a + a, где a - некоторая строка).\n"
   ]
  },
  {
   "cell_type": "code",
   "execution_count": null,
   "id": "falling-physics",
   "metadata": {},
   "outputs": [],
   "source": []
  }
 ],
 "metadata": {
  "kernelspec": {
   "display_name": "Python 3",
   "language": "python",
   "name": "python3"
  },
  "language_info": {
   "codemirror_mode": {
    "name": "ipython",
    "version": 3
   },
   "file_extension": ".py",
   "mimetype": "text/x-python",
   "name": "python",
   "nbconvert_exporter": "python",
   "pygments_lexer": "ipython3",
   "version": "3.9.1"
  }
 },
 "nbformat": 4,
 "nbformat_minor": 5
}
