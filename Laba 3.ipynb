{
 "cells": [
  {
   "cell_type": "markdown",
   "id": "stuffed-fiber",
   "metadata": {},
   "source": [
    "# Лабораторная работа 3. Методы поиска подстроки в строке. "
   ]
  },
  {
   "cell_type": "markdown",
   "id": "prime-school",
   "metadata": {},
   "source": [
    "## 1. Алгоритм Кнута-Морриса-Пратта"
   ]
  },
  {
   "cell_type": "code",
   "execution_count": 34,
   "id": "physical-notification",
   "metadata": {},
   "outputs": [
    {
     "name": "stdout",
     "output_type": "stream",
     "text": [
      "Введите строку: fdfjkkbvhk\n",
      "Введите образ: fd\n",
      "\n",
      "Кол-во элементов в строке 10\n",
      "Длина образа 2\n",
      "Массив pi  [0, 0]\n",
      "[0]\n"
     ]
    }
   ],
   "source": [
    "#Вычисление префикс функции \n",
    "def func_prefix(s: str) -> list:\n",
    "    l = len(s)\n",
    "    #массив для записи \n",
    "    P = [0]*l\n",
    "    #рассматриваемые символы \n",
    "    i, j = 0, 1\n",
    "#пока образ не закончился\n",
    "    while j < l :\n",
    "#символы равны \n",
    "        if s[i] == s[j]:\n",
    "            P[j] = i + 1\n",
    "            i += 1\n",
    "            j += 1\n",
    "#если символы не равны 2 условия\n",
    "     \n",
    "# i изменилось \n",
    "        elif i:         \n",
    "            i = P[i - 1]\n",
    "# не изменилось = 0 \n",
    "        else:          \n",
    "            P[j] = 0\n",
    "            j += 1\n",
    "    return P\n",
    "\n",
    "#Поиск образа в строке \n",
    "def kmp(text: str, sub: str) -> list:\n",
    "#Длина образа,длина строки \n",
    "    sub_len = len(sub)\n",
    "    text_len = len(text)\n",
    "    print(\"Кол-во элементов в строке\",text_len)\n",
    "    print(\"Длина образа\", sub_len)\n",
    "    \n",
    "#Строка меньше образа     \n",
    "    if not text_len or sub_len > text_len:\n",
    "        return []\n",
    "    \n",
    "#Функция поиска префикса \n",
    "    P = func_prefix(sub)\n",
    "    \n",
    "#Вывод массива из значений префиксов \n",
    "    print(\"Массив pi \", P)\n",
    "#Возвращаем пустоту если образ не найден\n",
    "# если неск раз встречается\n",
    "    entries = []\n",
    "    i = j = 0\n",
    "    \n",
    "#пока не дошли до конца строк \n",
    "    while i < text_len and j < sub_len:\n",
    "#Значения равны смещаем индексы \n",
    "\n",
    "        if text[i] == sub[j]:\n",
    "# j = дл.образа - 1 \n",
    "            if j == sub_len - 1:\n",
    "                entries.append(i - sub_len + 1)\n",
    "                j = 0\n",
    "            else:\n",
    "                j += 1\n",
    "            i += 1\n",
    "\n",
    "#Элементы не равны,то обращаемся к мас.pi\n",
    "#При j!=0\n",
    "        elif j:     \n",
    "            j = P[j-1]\n",
    "#При j=0\n",
    "        else:\n",
    "            i += 1\n",
    "    return entries\n",
    "\n",
    "if __name__ == '__main__':\n",
    "#строка для поиска \n",
    "    s = \"aBcabeabcabca bdr\"\n",
    "#заданный образ\n",
    "    sub = \"ab\"\n",
    "    P = kmp(s, sub)\n",
    "    print(P)\n",
    "    for i in P:\n",
    "        print(s[i:i + len(sub)])\n",
    "#s = input(\"Введите строку: \")\n",
    "#sub = input(\"Введите образ: \")\n",
    "#print(\"\")\n",
    "#print(kmp(s, sub))"
   ]
  },
  {
   "cell_type": "markdown",
   "id": "allied-duncan",
   "metadata": {},
   "source": [
    "## 2. Алгоритм Бойера-Мура"
   ]
  },
  {
   "cell_type": "code",
   "execution_count": 33,
   "id": "aware-aquatic",
   "metadata": {},
   "outputs": [
    {
     "name": "stdout",
     "output_type": "stream",
     "text": [
      "Образ найден. Число смещений равно 2.\n"
     ]
    }
   ],
   "source": [
    "#массив d \n",
    "#Функция ord( ) возвращает целое число порядковый номер символа в юникоде\n",
    "def forming_d(sub):\n",
    "    d = [len(sub) for i in range(256)]\n",
    "#от посл к 1 образ\n",
    "    new_p = sub[::-1]\n",
    "#присваиваем каждому символу в образе нужный индекс \n",
    "    for i in range(len(new_p)):\n",
    "        if d[ord(new_p[i])] != len(new_p):\n",
    "            continue\n",
    "        else:\n",
    "            d[ord(new_p[i])] = i\n",
    "    return d\n",
    " \n",
    "#поиск\n",
    "def search(s, sub):\n",
    "#вызов функции для формирования образа(его индексов.знач) \n",
    "    d = forming_d(sub)\n",
    "# i - начало прохода по s\n",
    "# j - проход по sub\n",
    "# k - проход по s\n",
    "#приравниваем к длине образа \n",
    "    len_p = i = j = k = len(sub)\n",
    "# число смещений\n",
    "    counter = 0\n",
    "#пока меньше строки и образ не закончился\n",
    "    while i <= len(s) and j > 0:\n",
    "# эл равны \n",
    "        if sub[j - 1] == s[k - 1]:\n",
    "            j -= 1\n",
    "            k -= 1\n",
    "#сдвигаем на значение которое присвоили\n",
    "        else:\n",
    "            i += d[ord(s[k - 1])]\n",
    "            k = i\n",
    "            j = len_p\n",
    "            counter += 1\n",
    "#Дошли до конца образа \n",
    "    if j <= 0:\n",
    "        return \"Образ найден. Число смещений равно %d.\" % counter\n",
    "    else:\n",
    "        return \"Образ не найден!\"\n",
    "#ввод\n",
    "if __name__ == '__main__':\n",
    "#строка для поиска \n",
    "    s = \"avacabnnna\"\n",
    "#заданный образ\n",
    "    sub = \"ab\"\n",
    "print(search(s, sub))\n",
    "#s = input(\"Введите строку: \")\n",
    "#sub = input(\"Введите образ: \")\n",
    "#print(\"\")\n",
    "#print(kmp(s, sub))"
   ]
  },
  {
   "cell_type": "markdown",
   "id": "directed-african",
   "metadata": {},
   "source": [
    "## Время работы алгоритмов"
   ]
  },
  {
   "cell_type": "code",
   "execution_count": 26,
   "id": "civil-preserve",
   "metadata": {},
   "outputs": [
    {
     "name": "stdout",
     "output_type": "stream",
     "text": [
      "Кол-во элементов в строке 4\n",
      "Длина образа 2\n",
      "Массив pi  [0, 0]\n",
      "Время работы алгоритма 1  0.00026649999927030876\n",
      "Время работы алгоритма 2  8.97999998414889e-05\n"
     ]
    }
   ],
   "source": [
    "import timeit\n",
    "print(\"Время работы алгоритма 1  \" + str(timeit.timeit(\"kmp(s,sub)\", number=1, globals=globals())))\n",
    "print(\"Время работы алгоритма 2  \" + str(timeit.timeit(\"search(s,sub)\", number=1, globals=globals())))"
   ]
  },
  {
   "cell_type": "code",
   "execution_count": null,
   "id": "loose-affect",
   "metadata": {},
   "outputs": [],
   "source": []
  }
 ],
 "metadata": {
  "kernelspec": {
   "display_name": "Python 3",
   "language": "python",
   "name": "python3"
  },
  "language_info": {
   "codemirror_mode": {
    "name": "ipython",
    "version": 3
   },
   "file_extension": ".py",
   "mimetype": "text/x-python",
   "name": "python",
   "nbconvert_exporter": "python",
   "pygments_lexer": "ipython3",
   "version": "3.9.1"
  }
 },
 "nbformat": 4,
 "nbformat_minor": 5
}
