{
 "cells": [
  {
   "cell_type": "markdown",
   "id": "neutral-print",
   "metadata": {},
   "source": [
    "# Лабораторная работа №4\n"
   ]
  },
  {
   "cell_type": "code",
   "execution_count": 1,
   "id": "saving-worship",
   "metadata": {},
   "outputs": [],
   "source": [
    "import random"
   ]
  },
  {
   "cell_type": "code",
   "execution_count": 2,
   "id": "brave-survey",
   "metadata": {},
   "outputs": [],
   "source": [
    "class LinkedNode:\n",
    "#Двунаправленный связный список\n",
    "    def __init__(self, value=None):\n",
    "        self.value = value\n",
    "        self.right = None\n",
    "        self.left = None"
   ]
  },
  {
   "cell_type": "markdown",
   "id": "prompt-drain",
   "metadata": {},
   "source": [
    "### Реализация стека"
   ]
  },
  {
   "cell_type": "code",
   "execution_count": 3,
   "id": "filled-exclusion",
   "metadata": {},
   "outputs": [],
   "source": [
    "class Stack:\n",
    "#инициализация\n",
    "    def __init__(self):\n",
    "        self.head = LinkedNode()\n",
    "        self.size = 0\n",
    "# очистка\n",
    "    def is_empty(self):\n",
    "        return self.size == 0\n",
    "    \n",
    "    \n",
    "#Добавить обьект на вершину стека\n",
    "    def push(self, value):\n",
    "        if self.size > 0:\n",
    "#Создаем контейнер ля эл\n",
    "            node = LinkedNode(value)\n",
    "#эл справа присваиваем голову  \n",
    "            node.right = self.head\n",
    "# присваиваем новое значение голове \n",
    "            self.head = node\n",
    "        else:\n",
    "#присваиваем значение,меняем размер \n",
    "            self.head.value = value\n",
    "        self.size += 1\n",
    "        \n",
    "        \n",
    "# возвращает обьект с вершины и удаляет   \n",
    "    def pop(self):\n",
    "# Проверка на пустоту \n",
    "        if self.is_empty():\n",
    "            raise Exception(\" \")\n",
    "#приваиваем значение головы\n",
    "        remove = self.head\n",
    "        if self.size > 1:\n",
    "#присваиваем голове эл справа от предыдущей головы \n",
    "# 7 4 3 5 - голова 4 \n",
    "            self.head = remove.right\n",
    "        self.size -= 1\n",
    "#возвращаем начальное значение\n",
    "        return remove.value\n",
    "    \n",
    "# возвращает обьект с вершины     \n",
    "    def peek(self):\n",
    "        if self.is_empty():\n",
    "            raise Exception(\" \")\n",
    "        return self.head.value\n",
    "    \n",
    "#возвращает длину стека    \n",
    "    def __len__(self):\n",
    "        return self.size\n",
    "#наоборот    \n",
    "    def reverse(self):\n",
    "#голова предыдущ след\n",
    "        current = self.head\n",
    "        prev = None\n",
    "        next = None\n",
    "#пока есть элементы  \n",
    "        while current is not None:\n",
    "            next = current.right\n",
    "            current.right = prev\n",
    "            prev = current\n",
    "            current = next\n",
    "\n",
    "        self.head = prev"
   ]
  },
  {
   "cell_type": "markdown",
   "id": "complimentary-budapest",
   "metadata": {},
   "source": [
    "## Реализация дека"
   ]
  },
  {
   "cell_type": "code",
   "execution_count": 4,
   "id": "minor-twelve",
   "metadata": {},
   "outputs": [],
   "source": [
    "class Deque:\n",
    "    def __init__(self):\n",
    "        self.head = LinkedNode()\n",
    "        self.tail = self.head\n",
    "        self.size = 0\n",
    "    \n",
    "    def is_empty(self):\n",
    "        return self.size == 0\n",
    "\n",
    "    def push_left(self, value):\n",
    "        if self.size > 0:\n",
    "            node = LinkedNode(value)\n",
    "            node.right = self.tail\n",
    "            self.tail.left = node\n",
    "            self.tail = node\n",
    "        else:\n",
    "            self.tail.value = value\n",
    "        self.size += 1\n",
    "\n",
    "    def push(self, value):\n",
    "        if self.size > 0:\n",
    "            node = LinkedNode(value)\n",
    "            node.left = self.head\n",
    "            self.head.right = node\n",
    "            self.head = node\n",
    "        else:\n",
    "            self.head.value = value\n",
    "        self.size += 1\n",
    "    \n",
    "    def pop_left(self):\n",
    "        if self.is_empty():\n",
    "            raise Exception(\" \")\n",
    "        remove = self.tail\n",
    "        if self.size > 1:\n",
    "            self.tail = remove.right\n",
    "        self.size -= 1\n",
    "        return remove.value\n",
    "    \n",
    "    def pop(self):\n",
    "        if self.is_empty():\n",
    "            raise Exception(\" \")\n",
    "        remove = self.head\n",
    "        if self.size > 1:\n",
    "            self.head = remove.left\n",
    "        self.size -= 1\n",
    "        return remove.value\n",
    "    \n",
    "    def peek(self):\n",
    "        if self.is_empty():\n",
    "            raise Exception(\" \")\n",
    "        return self.head.value\n",
    "    \n",
    "    def peek_left(self):\n",
    "        if self.is_empty():\n",
    "            raise Exception(\" \")\n",
    "        return self.tail.value\n",
    "\n",
    "    def __len__(self):\n",
    "        return self.size"
   ]
  },
  {
   "cell_type": "markdown",
   "id": "constant-vegetable",
   "metadata": {},
   "source": [
    "## Задание 1"
   ]
  },
  {
   "cell_type": "markdown",
   "id": "multiple-meditation",
   "metadata": {},
   "source": [
    "Отсортировать строки файла, содержащие названия книг, в алфавитном порядке с использованием двух деков"
   ]
  },
  {
   "cell_type": "code",
   "execution_count": 5,
   "id": "noble-kazakhstan",
   "metadata": {},
   "outputs": [
    {
     "name": "stdout",
     "output_type": "stream",
     "text": [
      "Clarissa Samuel Richardson\n",
      "\n",
      "Pilgrim's Journey to the Heavenly Land\n",
      "\n",
      "Robinzon Crusoe\n",
      "\n",
      "The Gulliver's Travels Jonathan Swift\n",
      "\n",
      "The Story of Tom Jones\n",
      "\n"
     ]
    }
   ],
   "source": [
    "def alf():\n",
    "    with open('books', 'r') as books:\n",
    "#деки\n",
    "        q1 = Deque()\n",
    "        q2 = Deque()\n",
    "#добавляем все строки \n",
    "        for line in books:\n",
    "            q1.push(line)\n",
    "#пока 1 дек не опустел\n",
    "        while not q1.is_empty():\n",
    "#переписываю в х самый правый эл\n",
    "            x = q1.pop()\n",
    "#пока 2 дек не пустой и самый правый эл < самого правого из 1 дека\n",
    "            while not q2.is_empty() and q2.peek() < x:\n",
    "        #слева добавляю самый правый эл из 2 дека в 1 дек\n",
    "                q1.push_left(q2.pop())\n",
    "#вправо во второй дек х\n",
    "            q2.push(x)\n",
    "        while not q2.is_empty():\n",
    "            print(q2.pop())\n",
    "alf()"
   ]
  },
  {
   "cell_type": "markdown",
   "id": "written-slovakia",
   "metadata": {},
   "source": [
    "## Задание 2"
   ]
  },
  {
   "cell_type": "markdown",
   "id": "composed-thomas",
   "metadata": {},
   "source": [
    "Дек содержит последовательность символов для шифровки сообщений. Дан текстовый файл, содержащий зашифрованное сообщение. Пользуясь деком, расшифровать текст. Известно, что при шифровке каждый символ сообщения заменялся следующим за ним в деке по часовой стрелке."
   ]
  },
  {
   "cell_type": "code",
   "execution_count": 21,
   "id": "weighted-potter",
   "metadata": {},
   "outputs": [],
   "source": [
    "#кодирование \n",
    "def encode_char(c):\n",
    "#проход по деку \n",
    "    for i in range(len(keyRing)):\n",
    "#запись слева \n",
    "        x = keyRing.pop_left()\n",
    "        if x == c:\n",
    "            keyRing.push(x)\n",
    "            val = keyRing.pop_left()\n",
    "            keyRing.push(val)\n",
    "            return val\n",
    "        keyRing.push(x)\n",
    "#декодирование\n",
    "def decode_char(c):\n",
    "    for i in range(len(keyRing)):\n",
    "        x = keyRing.pop()\n",
    "        if x == c:\n",
    "            keyRing.push_left(x)\n",
    "            val = keyRing.pop()\n",
    "            keyRing.push_left(val)\n",
    "            return val\n",
    "        keyRing.push_left(x)"
   ]
  },
  {
   "cell_type": "code",
   "execution_count": 23,
   "id": "political-fitting",
   "metadata": {},
   "outputs": [
    {
     "name": "stdout",
     "output_type": "stream",
     "text": [
      "okqtayslprimdnvwzfubchjegx\n",
      "Закодированный текст:\n",
      "m ajmvq ypp rgkrpg pmqg jkpmnysl cghyblg\n",
      "Раскодированный текст:\n",
      "i think all people like holidays because\n"
     ]
    }
   ],
   "source": [
    "alphabet = list('abcdefghijklmnopqrstuvwxyz')\n",
    "random.shuffle(alphabet)\n",
    "alphabet = ''.join(alphabet)\n",
    "print(alphabet)\n",
    "keyRing = Deque()\n",
    "for letter in alphabet:\n",
    "    keyRing.push(letter)\n",
    "def rashifr():\n",
    "    text = 'I think all people like holidays because'.lower()\n",
    "#зашифровка\n",
    "    encoded = ''\n",
    "    for letter in text:\n",
    "        if encoded_letter := encode_char(letter):\n",
    "            encoded += encoded_letter\n",
    "        else:\n",
    "            encoded += letter\n",
    "    print('Закодированный текст:')\n",
    "    print(encoded)\n",
    "    print('Раскодированный текст:')\n",
    "    decoded = ''\n",
    "#расшифровка\n",
    "    for letter in encoded:\n",
    "        if decoded_letter := decode_char(letter):\n",
    "            decoded += decoded_letter\n",
    "        else:\n",
    "            decoded += letter\n",
    "    print(decoded)\n",
    "rashifr()"
   ]
  },
  {
   "cell_type": "markdown",
   "id": "documented-strike",
   "metadata": {},
   "source": [
    "## Задание 3"
   ]
  },
  {
   "cell_type": "markdown",
   "id": "atmospheric-drilling",
   "metadata": {},
   "source": [
    "Даны три стержня и n дисков различного размера. Диски можно надевать на стержни, образуя из них башни. \n",
    "Перенести n дисков со стержня А на стержень С, сохранив их первоначальный порядок. \n",
    "При переносе дисков необходимо соблюдать следующие правила:\n",
    "\n",
    "* на каждом шаге со стержня на стержень переносить только один диск;\n",
    "* диск нельзя помещать на диск меньшего размера;\n",
    "* для промежуточного хранения можно использовать стержень В. Реализовать алгоритм, используя три стека вместо стержней А, В, С. "
   ]
  },
  {
   "cell_type": "code",
   "execution_count": 8,
   "id": "medical-lending",
   "metadata": {},
   "outputs": [
    {
     "name": "stdout",
     "output_type": "stream",
     "text": [
      "1\n",
      "2\n",
      "3\n",
      "4\n"
     ]
    }
   ],
   "source": [
    "\n",
    "# создаем три стержня с усл. LIFO\n",
    "A = Stack()\n",
    "B = Stack()\n",
    "C = Stack()\n",
    "#i=0\n",
    "disks = 4\n",
    "# от 10 до 0 шаг -1 ё\n",
    "# Добавляем все диски на А с большего к меньшему \n",
    "for i in range(disks, 0, -1):\n",
    "    A.push(i)\n",
    "\n",
    "def move(a, b):\n",
    "# если исп.стек пустой и след. > 0 \n",
    "    if len(a) == 0 and len(b) > 0:\n",
    "#удаляем из b и перекладываем в a \n",
    "        a.push(b.pop())\n",
    "    elif len(a) > 0 and len(b) == 0:\n",
    "        b.push(a.pop())\n",
    "#сравниваем первые элементы \n",
    "    elif a.peek() > b.peek():\n",
    "        a.push(b.pop())\n",
    "    else:\n",
    "        b.push(a.pop())\n",
    "def task(A,B,C):\n",
    "#если четное\n",
    "    if disks % 2 == 0:\n",
    "#пока С не заполнено \n",
    "        while len(C) != disks:\n",
    "            move(A, B)\n",
    "            move(A, C)\n",
    "            move(B, C)\n",
    "       # i=i+1\n",
    "       # print(i)\n",
    "    else:\n",
    "        while len(C) != disks:\n",
    "            move(A, C)\n",
    "            move(A, B)\n",
    "            move(C, B)\n",
    "            move(A, C)\n",
    "            move(B, A)\n",
    "            move(B, C)\n",
    "            move(A, C)\n",
    "\n",
    "    while not C.is_empty():\n",
    "        print(C.pop())\n",
    "task(A,B,C)"
   ]
  },
  {
   "cell_type": "markdown",
   "id": "marked-columbus",
   "metadata": {},
   "source": [
    "## Задание 4 "
   ]
  },
  {
   "cell_type": "markdown",
   "id": "sacred-workplace",
   "metadata": {},
   "source": [
    "Дан текстовый файл с программой на алгоритмическом языке. За один просмотр файла проверить баланс круглых скобок в тексте, используя стек."
   ]
  },
  {
   "cell_type": "code",
   "execution_count": 9,
   "id": "logical-honor",
   "metadata": {},
   "outputs": [
    {
     "name": "stdout",
     "output_type": "stream",
     "text": [
      "False\n",
      "True\n"
     ]
    }
   ],
   "source": [
    "def check_brackets(string):\n",
    "    bracket_stack = Stack()\n",
    "    for i in string:\n",
    "        if i == '(':\n",
    "#открывающую скобку в стек \n",
    "            bracket_stack.push(i)\n",
    "        elif i == ')':\n",
    "#если начинается с ) то false \n",
    "            if bracket_stack.is_empty():\n",
    "                return False\n",
    "#удаляем из стека \n",
    "            bracket_stack.pop()\n",
    "#если все эл закончились try \n",
    "    return bracket_stack.is_empty()\n",
    "\n",
    "print(check_brackets('()())((())(()(())()'))\n",
    "print(check_brackets('(()())()()()()(()(()(())()))'))"
   ]
  },
  {
   "cell_type": "markdown",
   "id": "large-poland",
   "metadata": {},
   "source": [
    "## Задание 5 "
   ]
  },
  {
   "cell_type": "markdown",
   "id": "alien-principle",
   "metadata": {},
   "source": [
    "Дан текстовый файл с программой на алгоритмическом языке. За один просмотр файла проверить баланс квадратных скобок в тексте, используя дек."
   ]
  },
  {
   "cell_type": "code",
   "execution_count": 10,
   "id": "round-confirmation",
   "metadata": {},
   "outputs": [
    {
     "name": "stdout",
     "output_type": "stream",
     "text": [
      "False\n",
      "True\n"
     ]
    }
   ],
   "source": [
    "def check_square_brackets(string):\n",
    "    bracket_stack = Deque()\n",
    "    for i in string:\n",
    "        if i == '[':\n",
    "            bracket_stack.push(i)\n",
    "        elif i == ']':\n",
    "            if bracket_stack.is_empty():\n",
    "                return False\n",
    "            bracket_stack.pop()\n",
    "    return bracket_stack.is_empty()\n",
    "\n",
    "print(check_square_brackets('[][[][[[[]][[]]]]]]'))\n",
    "print(check_square_brackets('[[][][][[][]][][[][][][][]]][]'))"
   ]
  },
  {
   "cell_type": "markdown",
   "id": "conditional-blend",
   "metadata": {},
   "source": [
    "## Задание 6 "
   ]
  },
  {
   "cell_type": "markdown",
   "id": "approximate-founder",
   "metadata": {},
   "source": [
    "Дан файл из символов. Используя стек, за один просмотр файла напечатать сначала все цифры, затем все буквы, и, наконец, все остальные символы, сохраняя исходный порядок в каждой группе символов."
   ]
  },
  {
   "cell_type": "code",
   "execution_count": 11,
   "id": "alive-weight",
   "metadata": {},
   "outputs": [
    {
     "name": "stdout",
     "output_type": "stream",
     "text": [
      "134567812345234одинизвидовпечатнойпродукциинепериодическоеизданиесостоящееизйсброшюрованныхилиотдельныхбумажныхлистовстраницилитетрадей    :   ,          ()  ,\n"
     ]
    }
   ],
   "source": [
    "def zadan6():\n",
    "    text = 'один из видов печатной продукции: 1345678 непериодическое издание, состоящее из 123й45сброшюрованных  234 или отдельных бумажных листов (страниц) или тетрадей,'\n",
    "\n",
    "    letters = Stack()\n",
    "    digits = Stack()\n",
    "    others = Stack()\n",
    "\n",
    "    for c in text:\n",
    "#если буквы \n",
    "        if c.isalpha():\n",
    "            letters.push(c)\n",
    "#если цифры\n",
    "        elif c.isdigit():\n",
    "            digits.push(c)\n",
    "#другие знаки\n",
    "        else:\n",
    "            others.push(c)\n",
    "\n",
    "    new_text = ''\n",
    "\n",
    "#наоборот      \n",
    "    letters.reverse()\n",
    "    digits.reverse()\n",
    "    others.reverse()\n",
    "\n",
    "#print(digits.pop())\n",
    " \n",
    "#добавляем цифры\n",
    "    while not digits.is_empty():\n",
    "        new_text += digits.pop()\n",
    "#буквы\n",
    "    while not letters.is_empty():\n",
    "        new_text += letters.pop()\n",
    "#другие\n",
    "    while not others.is_empty():\n",
    "        new_text += others.pop()\n",
    "\n",
    "    print(new_text)\n",
    "zadan6()"
   ]
  },
  {
   "cell_type": "markdown",
   "id": "drawn-marathon",
   "metadata": {},
   "source": [
    "## Задание 7"
   ]
  },
  {
   "cell_type": "markdown",
   "id": "respiratory-melissa",
   "metadata": {},
   "source": [
    "Дан файл из целых чисел. Используя дек, за один просмотр файла напечатать сначала все отрицательные числа, затем все положительные числа, сохраняя исходный порядок в каждой группе."
   ]
  },
  {
   "cell_type": "code",
   "execution_count": 12,
   "id": "humanitarian-clock",
   "metadata": {},
   "outputs": [
    {
     "name": "stdout",
     "output_type": "stream",
     "text": [
      "[5, 8, 4, -4, 0, 10, -5, 4, 0, 9]\n",
      "-4\n",
      "-5\n",
      "5\n",
      "8\n",
      "4\n",
      "0\n",
      "10\n",
      "4\n",
      "0\n",
      "9\n"
     ]
    }
   ],
   "source": [
    "#формирую полож и отриц числа\n",
    "numbers = [random.randint(-10, 10) for i in range(10)]\n",
    "print(numbers)\n",
    "\n",
    "deque = Deque()\n",
    "#цикл по элементам \n",
    "for n in numbers:\n",
    "#если число отрицательное \n",
    "    if n < 0:\n",
    "#добавляю в начало \n",
    "        deque.push_left(n)\n",
    "    else:\n",
    "#положительные в конец \n",
    "        deque.push(n)\n",
    "#пока дек не пуст \n",
    "#исп дек чтобы сохранить порядок \n",
    "while not deque.is_empty():\n",
    "    x = deque.pop_left()\n",
    "    if x < 0:\n",
    "        deque.push(x)\n",
    "    else:\n",
    "        deque.push_left(x)\n",
    "        break\n",
    "\n",
    "while not deque.is_empty():\n",
    "#вывод отриц \n",
    "    x = deque.pop()\n",
    "    if x < 0:\n",
    "        print(x)\n",
    "    else:\n",
    "#полож в дек \n",
    "        deque.push(x)\n",
    "        break\n",
    "#вывод полож\n",
    "while not deque.is_empty():\n",
    "    print(deque.pop_left())"
   ]
  },
  {
   "cell_type": "markdown",
   "id": "criminal-lover",
   "metadata": {},
   "source": [
    "## Задание 8"
   ]
  },
  {
   "cell_type": "markdown",
   "id": "instrumental-pride",
   "metadata": {},
   "source": [
    "Дан текстовый файл. Используя стек, сформировать новый текстовый файл, содержащий строки исходного файла, записанные в обратном порядке: первая строка становится последней, вторая – предпоследней и т.д."
   ]
  },
  {
   "cell_type": "code",
   "execution_count": 13,
   "id": "ecological-mirror",
   "metadata": {},
   "outputs": [
    {
     "name": "stdout",
     "output_type": "stream",
     "text": [
      "Pilgrim's Journey to the Heavenly Land\n",
      "Robinzon Crusoe\n",
      "The Gulliver's Travels Jonathan Swift\n",
      "Clarissa Samuel Richardson\n",
      "The Story of Tom Jones\n",
      "\n",
      "The Story of Tom Jones\n",
      "Clarissa Samuel Richardson\n",
      "The Gulliver's Travels Jonathan Swift\n",
      "Robinzon Crusoe\n",
      "Pilgrim's Journey to the Heavenly Land\n"
     ]
    }
   ],
   "source": [
    "def rev():\n",
    "    with open('books', 'r') as books:\n",
    "        stack = Stack()\n",
    "        for line in books:\n",
    "#копия строки \n",
    "            line = line.strip()\n",
    "#Начальный вид\n",
    "            print(line)\n",
    "#добавляем 1 строку\n",
    "            stack.push(line)\n",
    "        print()\n",
    "        while not stack.is_empty():\n",
    "            print(stack.pop())\n",
    "rev()"
   ]
  },
  {
   "cell_type": "markdown",
   "id": "received-textbook",
   "metadata": {},
   "source": [
    "## Задание 9"
   ]
  },
  {
   "cell_type": "markdown",
   "id": "contrary-unemployment",
   "metadata": {},
   "source": [
    "дан текстовый файл. Используя стек, вычислить значение логического выражения, записанного в текстовом файле в следующей форме:\n",
    "\n",
    "< ЛВ > ::= T | F | (N<ЛВ>) | (<ЛВ>A<ЛВ>) | (<ЛВ>X<ЛВ>) | (<ЛВ>O<ЛВ>),\n",
    "где буквами обозначены логические константы и операции:\n",
    "\n",
    "T – True, F – False, N – Not, A – And, X – Xor, O – Or."
   ]
  },
  {
   "cell_type": "code",
   "execution_count": 14,
   "id": "drawn-reverse",
   "metadata": {},
   "outputs": [
    {
     "name": "stdout",
     "output_type": "stream",
     "text": [
      "T\n"
     ]
    }
   ],
   "source": [
    "def logic(string):\n",
    "    \n",
    "\n",
    "    opstack = Stack()\n",
    "    vstack = Stack()\n",
    "\n",
    "    cur = 0\n",
    "    while True:\n",
    "        read = False\n",
    "        if not opstack.is_empty():\n",
    "#если Н\n",
    "            if opstack.peek() == 'N':\n",
    "        #если стек пустой - продолжаем \n",
    "                if vstack.is_empty():\n",
    "                    read = True\n",
    "        #если в стеке есть символ,то меняем на противоположный \n",
    "                else:\n",
    "                    if vstack.pop() == 'T':\n",
    "                        vstack.push('F')\n",
    "                    else:\n",
    "                        vstack.push('T')\n",
    "                    opstack.pop()\n",
    "            #если А (*)\n",
    "            elif opstack.peek() == 'A':\n",
    "               \n",
    "                if len(vstack) < 2:\n",
    "                    read = True\n",
    "                else:\n",
    "                    #если в стеке больше 1 символа\n",
    "                    a = vstack.pop()\n",
    "                    b = vstack.pop()\n",
    "                    #если 11 то Т\n",
    "                    if a == b and b == 'T':\n",
    "                        vstack.push('T')\n",
    "                    else:\n",
    "                        vstack.push('F')\n",
    "                    opstack.pop()\n",
    "                    #если + \n",
    "            elif opstack.peek() == 'O':\n",
    "                if len(vstack) < 2:\n",
    "                    read = True\n",
    "                else:\n",
    "                    a = vstack.pop()\n",
    "                    b = vstack.pop()\n",
    "                    #01 10 11\n",
    "                    if a == 'T' or b == 'T':\n",
    "                        vstack.push('T')\n",
    "                    else:\n",
    "                        vstack.push('F')\n",
    "                    opstack.pop()\n",
    "            elif opstack.peek() == 'X':\n",
    "                if len(vstack) < 2:\n",
    "                    read = True\n",
    "                else:\n",
    "                    a = vstack.pop()\n",
    "                    b = vstack.pop()\n",
    "                    #01 10\n",
    "                    if a != b:\n",
    "                        vstack.push('T')\n",
    "                    else:\n",
    "                        vstack.push('F')\n",
    "                    opstack.pop()\n",
    "#скобки\n",
    "            elif opstack.peek() == '(':\n",
    "                read = True\n",
    "         #убираю скобку и предыдущ символ ()\n",
    "            elif opstack.peek() == ')':\n",
    "                opstack.pop()\n",
    "                opstack.pop()\n",
    "        else:\n",
    "            read = True\n",
    "#заполнение стеков \n",
    "        if read:\n",
    "            i = text[cur]\n",
    "#в стек тру и фолс             \n",
    "            if i in 'FT':\n",
    "                vstack.push(i)\n",
    "#логические операции \n",
    "            if i in 'AXON()':\n",
    "                opstack.push(i)\n",
    "            cur += 1\n",
    "    \n",
    "#конец\n",
    "        if cur == len(text) and len(opstack) == 0:\n",
    "            break\n",
    "\n",
    "    while not vstack.is_empty():\n",
    "        print(vstack.pop())\n",
    "text = '(N(TAF))'        \n",
    "logic(text)"
   ]
  },
  {
   "cell_type": "markdown",
   "id": "detected-sydney",
   "metadata": {},
   "source": [
    "## Задание 10"
   ]
  },
  {
   "cell_type": "markdown",
   "id": "functional-microphone",
   "metadata": {},
   "source": [
    "Дан текстовый файл. В текстовом файле записана формула следующего вида:\n",
    "\n",
    "<Формула> ::= <Цифра> | M(<Формула>,<Формула>) | N(Формула>,<Формула>)\n",
    "< Цифра > ::= 0 | 1 | 2 | 3 | 4 | 5 | 6 | 7 | 8 | 9\n",
    "где буквами обозначены функции:\n",
    "\n",
    "M – определение максимума, N – определение минимума.\n",
    "\n",
    "Используя стек, вычислить значение заданного выражения."
   ]
  },
  {
   "cell_type": "code",
   "execution_count": 15,
   "id": "entire-costs",
   "metadata": {},
   "outputs": [
    {
     "name": "stdout",
     "output_type": "stream",
     "text": [
      "8\n"
     ]
    }
   ],
   "source": [
    "def func(string):\n",
    "    text = 'M(N(9, 8), 1)'\n",
    "\n",
    "    op = Stack()\n",
    "    nums = Stack()\n",
    "\n",
    "    num = ''\n",
    "\n",
    "    cur = 0\n",
    "    while cur < len(text):\n",
    "#перебираем эл строки\n",
    "        i = text[cur]\n",
    "#если цифра\n",
    "        if i.isdigit():\n",
    "            num += i\n",
    "#если num не пустой\n",
    "        elif num != '':\n",
    "            nums.push(int(num))\n",
    "            num = ''\n",
    "#если MN\n",
    "        if i in 'MN':\n",
    "#Добавляем эл. в оп\n",
    "            op.push(i)\n",
    "#сдвигаем \n",
    "        cur += 1\n",
    "#пока op не пустой \n",
    "    while not op.is_empty():\n",
    "\n",
    "        a = nums.pop()\n",
    "        b = nums.pop()\n",
    "        if a < b:\n",
    "            a,b = b,a\n",
    "        if op.pop() == 'N':\n",
    "            nums.push(a)\n",
    "        else:\n",
    "            nums.push(b)\n",
    "        \n",
    "    while not nums.is_empty():\n",
    "        print(nums.pop())\n",
    "func(text)"
   ]
  },
  {
   "cell_type": "markdown",
   "id": "bridal-drunk",
   "metadata": {},
   "source": [
    "## Задание 11"
   ]
  },
  {
   "cell_type": "markdown",
   "id": "empty-annual",
   "metadata": {},
   "source": [
    "Дан текстовый файл. Используя стек, проверить, является ли содержимое текстового файла правильной записью формулы вида:\n",
    "\n",
    "< Формула > ::= < Терм > | < Терм > + < Формула > | < Терм > - < Формула >\n",
    "< Терм > ::= < Имя > | (< Формула >)\n",
    "< Имя > ::= x | y | z"
   ]
  },
  {
   "cell_type": "code",
   "execution_count": 16,
   "id": "sapphire-removal",
   "metadata": {
    "scrolled": true
   },
   "outputs": [
    {
     "data": {
      "text/plain": [
       "True"
      ]
     },
     "execution_count": 16,
     "metadata": {},
     "output_type": "execute_result"
    }
   ],
   "source": [
    "def check(text):\n",
    "    stack = Stack()\n",
    "\n",
    "    cur = 0\n",
    "    while True:\n",
    "        read = False\n",
    "        if not stack.is_empty():\n",
    "            if stack.peek() == '(':\n",
    "                read = True\n",
    "            elif stack.peek() == ')':\n",
    "                stack.pop()\n",
    "                #если длина меньше 2 или не действие или не (\n",
    "                if len(stack) < 2 or stack.pop() != 'formula' or stack.pop() != '(':\n",
    "                    return False\n",
    "                #в стек формула \n",
    "                stack.push('formula')\n",
    "            elif stack.peek() == 'formula':\n",
    "                stack.pop()\n",
    "                #какое то действие до формулы и дальше тоже формула \n",
    "                if len(stack) > 1 and stack.peek() in '+-':\n",
    "                    if stack.pop() in '+-' and stack.pop() == 'formula':\n",
    "                        stack.push('formula')\n",
    "                    else:\n",
    "                        return False\n",
    "                else:\n",
    "                    #если (формула\n",
    "                    stack.push('formula')\n",
    "                    read = True\n",
    "            else:\n",
    "                read = True\n",
    "        else:\n",
    "            read = True\n",
    "        if read:\n",
    "            i = text[cur]\n",
    "            if i in 'xyz':\n",
    "                stack.push('formula')\n",
    "            elif i in '()+-':\n",
    "                stack.push(i)\n",
    "            cur += 1\n",
    "        if cur == len(text) and len(stack) == 1:\n",
    "            break\n",
    "    return True\n",
    "\n",
    "check('(x+(y+z))')"
   ]
  }
 ],
 "metadata": {
  "kernelspec": {
   "display_name": "Python 3",
   "language": "python",
   "name": "python3"
  },
  "language_info": {
   "codemirror_mode": {
    "name": "ipython",
    "version": 3
   },
   "file_extension": ".py",
   "mimetype": "text/x-python",
   "name": "python",
   "nbconvert_exporter": "python",
   "pygments_lexer": "ipython3",
   "version": "3.9.1"
  }
 },
 "nbformat": 4,
 "nbformat_minor": 5
}
